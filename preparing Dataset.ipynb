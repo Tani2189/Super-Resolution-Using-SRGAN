{
 "cells": [
  {
   "cell_type": "markdown",
   "id": "8afa0052",
   "metadata": {},
   "source": [
    "# Resizing the images"
   ]
  },
  {
   "cell_type": "markdown",
   "id": "d50a37e3",
   "metadata": {},
   "source": [
    "changing the image size and splitting it into low and high resolution images."
   ]
  },
  {
   "cell_type": "code",
   "execution_count": 1,
   "id": "916de4ab",
   "metadata": {},
   "outputs": [],
   "source": [
    "import cv2\n",
    "import pandas as pd\n",
    "import numpy as np\n",
    "import os\n",
    "import matplotlib.pyplot as plt"
   ]
  },
  {
   "cell_type": "code",
   "execution_count": 3,
   "id": "258054ca",
   "metadata": {},
   "outputs": [],
   "source": [
    "train_dir = \"data\"\n",
    "\n",
    "original_folder = os.path.join(train_dir, \"original_images\")\n",
    "hr_folder = os.path.join(train_dir, \"hr_images\")\n",
    "lr_folder = os.path.join(train_dir, \"lr_images\")\n",
    "\n",
    "# Create output folders if they don't exist\n",
    "os.makedirs(hr_folder, exist_ok=True)\n",
    "os.makedirs(lr_folder, exist_ok=True)\n",
    "\n",
    "for img in os.listdir(original_folder):\n",
    "    img_path = os.path.join(original_folder, img)\n",
    "\n",
    "    # Read the original image\n",
    "    img_array = cv2.imread(img_path)\n",
    "\n",
    "    # Resize to high resolution\n",
    "    hr_img_array = cv2.resize(img_array, (128, 128))\n",
    "\n",
    "    # Resize to low resolution\n",
    "    lr_img_array = cv2.resize(img_array, (32, 32))\n",
    "\n",
    "    # Save high-resolution image\n",
    "    hr_output_path = os.path.join(hr_folder, img)\n",
    "    cv2.imwrite(hr_output_path, hr_img_array)\n",
    "\n",
    "    # Save low-resolution image\n",
    "    lr_output_path = os.path.join(lr_folder, img)\n",
    "    cv2.imwrite(lr_output_path, lr_img_array)\n"
   ]
  },
  {
   "cell_type": "code",
   "execution_count": null,
   "id": "ef58fa8a",
   "metadata": {},
   "outputs": [],
   "source": []
  }
 ],
 "metadata": {
  "kernelspec": {
   "display_name": "Python 3 (ipykernel)",
   "language": "python",
   "name": "python3"
  },
  "language_info": {
   "codemirror_mode": {
    "name": "ipython",
    "version": 3
   },
   "file_extension": ".py",
   "mimetype": "text/x-python",
   "name": "python",
   "nbconvert_exporter": "python",
   "pygments_lexer": "ipython3",
   "version": "3.11.5"
  }
 },
 "nbformat": 4,
 "nbformat_minor": 5
}
